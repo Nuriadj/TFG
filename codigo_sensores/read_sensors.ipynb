{
 "cells": [
  {
   "cell_type": "code",
   "execution_count": null,
   "id": "a7bf6be2",
   "metadata": {},
   "outputs": [],
   "source": [
    "import lgpio\n",
    "import numpy as np\n",
    "import bme280\n",
    "import smbus2\n",
    "import csv\n",
    "import time\n",
    "import sys\n",
    "import matplotlib.pyplot as plt"
   ]
  },
  {
   "cell_type": "code",
   "execution_count": null,
   "id": "77bf6928",
   "metadata": {},
   "outputs": [],
   "source": [
    "name= sys.argv[0].split(\"/\")\n",
    "\n",
    "if(len(name) > 1):\n",
    "    name= name[-1]\n",
    "\n",
    "\n",
    "if (len(sys.argv) != 2):\n",
    "    error=\"\"\n",
    "    error=error+\"Error: wrong number of arguments, execute as: \\nsudo env \\\"PATH=$PATH\\\" ipython \"+name+\" csv_name\"\n",
    "    sys.exit(error)"
   ]
  },
  {
   "cell_type": "code",
   "execution_count": null,
   "id": "4015eb80",
   "metadata": {},
   "outputs": [],
   "source": [
    "csv_name= sys.argv[1]+\".csv\"\n",
    "\n",
    "port= 1\n",
    "address= 0x77\n",
    "bus= smbus2.SMBus(port)\n",
    "bme280.load_calibration_params(bus,address)\n",
    "\n",
    "LDR= 10\n",
    "h= lgpio.gpiochip_open(0)\n",
    "lgpio.gpio_claim_input(h, LDR)"
   ]
  },
  {
   "cell_type": "code",
   "execution_count": null,
   "id": "ee682b91",
   "metadata": {},
   "outputs": [],
   "source": [
    "measures= [] #array que contiene los valores del sensor\n",
    "\n",
    "try:\n",
    "    while True:\n",
    "\n",
    "        bme280_data = bme280.sample(bus, address)\n",
    "        humidity= bme280_data.humidity\n",
    "        pressure= bme280_data.pressure\n",
    "        temp= bme280_data.temperature\n",
    "        \n",
    "        light= lgpio.gpio_read(h, LDR)\n",
    "        light= 1 - light\n",
    "        \n",
    "        measures.append([humidity, pressure, temp, light])\n",
    "        \n",
    "        print(humidity, pressure, temp, light)\n",
    "        time.sleep(1)\n",
    "except KeyboardInterrupt:\n",
    "   pass  "
   ]
  },
  {
   "cell_type": "code",
   "execution_count": null,
   "id": "8aea8ec0",
   "metadata": {},
   "outputs": [],
   "source": [
    "#Crear figura\n",
    "fig,axs= plt.subplots()\n",
    "axs.set_title(\"Sensors measurements\")\n",
    "axs.set_xlabel(\"Seconds\")\n",
    "axs.set_ylabel(\"Values\")\n",
    "\n",
    "fig_temp,axs_temp= plt.subplots()\n",
    "axs_temp.set_title(\"Temperature\")\n",
    "axs_temp.set_xlabel(\"Seconds\")\n",
    "axs_temp.set_ylabel(\"ºC\")\n",
    "axs_temp.set_ylim([0, 30])\n",
    "\n",
    "\n",
    "hum= []\n",
    "temp= []\n",
    "pres= []\n",
    "light= []\n",
    "x= []\n",
    "\n",
    "for i in range(len(measures)):\n",
    "    hum.append(measures[i][0])\n",
    "    pres.append(measures[i][1]/10)\n",
    "    temp.append(measures[i][2])\n",
    "    light.append((measures[i][3]*50))#multiplico por 50 para verlo mejor en el plot\n",
    "    x.append(i)\n",
    "    \n",
    "axs.plot(x, hum, label=\"Humidity (%)\") \n",
    "axs.plot(x, pres, label=\"Preassure (kPa)\")\n",
    "axs.plot(x, temp, label=\"Temperature (ºC)\")\n",
    "axs.plot(x, light, label=\"Light\")\n",
    "axs.legend(loc=\"upper right\")\n",
    "\n",
    "axs_temp.plot(x, temp)\n",
    "\n",
    "str_fig=\"Data_graph_\"+sys.argv[1]\n",
    "fig.savefig(str_fig)\n",
    "plt.close(fig)\n",
    "\n",
    "str_temp= \"Fig_temp_\"+sys.argv[1]\n",
    "fig_temp.savefig(str_temp)\n",
    "plt.close(fig_temp)"
   ]
  },
  {
   "cell_type": "code",
   "execution_count": null,
   "id": "7fa0cc8d",
   "metadata": {},
   "outputs": [],
   "source": [
    "data= np.array(measures)\n",
    "np.savetxt(csv_name,data,delimiter=\",\",fmt='%s')"
   ]
  }
 ],
 "metadata": {
  "kernelspec": {
   "display_name": "Python 3 (ipykernel)",
   "language": "python",
   "name": "python3"
  },
  "language_info": {
   "codemirror_mode": {
    "name": "ipython",
    "version": 3
   },
   "file_extension": ".py",
   "mimetype": "text/x-python",
   "name": "python",
   "nbconvert_exporter": "python",
   "pygments_lexer": "ipython3",
   "version": "3.9.10"
  }
 },
 "nbformat": 4,
 "nbformat_minor": 5
}
