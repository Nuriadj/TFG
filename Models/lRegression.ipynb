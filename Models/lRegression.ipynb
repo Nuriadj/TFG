{
 "cells": [
  {
   "cell_type": "code",
   "execution_count": 25,
   "id": "3688d428",
   "metadata": {},
   "outputs": [],
   "source": [
    "import csv\n",
    "import pandas as pd\n",
    "from sklearn import metrics\n",
    "from sklearn import preprocessing\n",
    "from sklearn.metrics import confusion_matrix\n",
    "from sklearn.linear_model import LogisticRegression\n",
    "from sklearn.model_selection import train_test_split\n",
    "from sklearn.model_selection import KFold\n",
    "from sklearn.model_selection import cross_val_score\n",
    "import matplotlib.pyplot as plt\n",
    "from collections import Counter\n",
    "import sys"
   ]
  },
  {
   "cell_type": "code",
   "execution_count": null,
   "id": "a09dc210",
   "metadata": {},
   "outputs": [],
   "source": [
    "program= sys.argv[0].split(\"/\")\n",
    "\n",
    "if(len(program) > 1):\n",
    "    program= program[-1]\n",
    "    \n",
    "if (len(sys.argv) != 2):\n",
    "    error=\"\"\n",
    "    error=error+\"Error: wrong number of arguments, execute as: \\nipython \"+program+\" dataset_name\"\n",
    "    sys.exit(error)"
   ]
  },
  {
   "cell_type": "code",
   "execution_count": 26,
   "id": "4318aeee",
   "metadata": {},
   "outputs": [],
   "source": [
    "f_name= sys.argv[1]#.replace(\".\",\"..\",1)\n",
    "dataset = pd.read_csv(f_name, header= None)\n",
    "headers = list(dataset.columns.values)"
   ]
  },
  {
   "cell_type": "code",
   "execution_count": 31,
   "id": "e479bed1",
   "metadata": {},
   "outputs": [],
   "source": [
    "size= len(dataset.columns)\n",
    "\n",
    "x= dataset.iloc[:, :-1].values\n",
    "y= dataset.iloc[:, (size-1)].values"
   ]
  },
  {
   "cell_type": "code",
   "execution_count": 32,
   "id": "a60512d2",
   "metadata": {},
   "outputs": [],
   "source": [
    "#-- 70% train 30% test y estratificado--\n",
    "x_train, x_test, y_train, y_test = train_test_split(x,y, test_size= 0.30, stratify=y)\n",
    "\n",
    "scaler = preprocessing.StandardScaler().fit(x_train)\n",
    "x_scaled = scaler.transform(x_train)\n",
    "\n",
    "scaler = preprocessing.StandardScaler().fit(x_test)\n",
    "x_test_scaled = scaler.transform(x_test)"
   ]
  },
  {
   "cell_type": "code",
   "execution_count": 33,
   "id": "07263cd7",
   "metadata": {},
   "outputs": [],
   "source": [
    "l_regr= LogisticRegression(max_iter= 400)\n",
    "\n",
    "#Validacion cruzada\n",
    "kfold = KFold(n_splits=5, shuffle=True)\n",
    "acc_folds = cross_val_score(l_regr, x_scaled, y_train, cv=kfold)\n",
    "\n",
    "# Entrenamiento\n",
    "l_regr.fit(x_scaled, y_train)\n",
    "# Prediccion\n",
    "occup_pred_train= l_regr.predict(x_scaled)\n",
    "occup_pred = l_regr.predict(x_test_scaled)"
   ]
  },
  {
   "cell_type": "code",
   "execution_count": 34,
   "id": "1199332c",
   "metadata": {},
   "outputs": [
    {
     "name": "stdout",
     "output_type": "stream",
     "text": [
      "Accuracy:  98.9 %\n",
      "Precision:  98.9 %\n",
      "Recall:  99.4 %\n"
     ]
    }
   ],
   "source": [
    "label= y[0]\n",
    "\n",
    "print(\"Mean Folds Accuracy: \",\"{:.1f}\".format(acc_folds.mean()*100),\"%\")\n",
    "\n",
    "accuracy = metrics.accuracy_score(y_train, occup_pred_train)*100\n",
    "print(\"Trainning Accuracy: \",\"{:.1f}\".format(accuracy),\"%\")\n",
    "\n",
    "accuracy = metrics.accuracy_score(y_test, occup_pred)*100\n",
    "print(\"Accuracy: \",\"{:.1f}\".format(accuracy),\"%\")\n",
    "precision = metrics.precision_score(y_test, occup_pred, pos_label=label)*100\n",
    "print(\"Precision: \",\"{:.1f}\".format(precision),\"%\")\n",
    "recall = metrics.recall_score(y_test, occup_pred, pos_label=label)*100\n",
    "print(\"Recall: \",\"{:.1f}\".format(recall),\"%\")"
   ]
  }
 ],
 "metadata": {
  "kernelspec": {
   "display_name": "Python 3 (ipykernel)",
   "language": "python",
   "name": "python3"
  },
  "language_info": {
   "codemirror_mode": {
    "name": "ipython",
    "version": 3
   },
   "file_extension": ".py",
   "mimetype": "text/x-python",
   "name": "python",
   "nbconvert_exporter": "python",
   "pygments_lexer": "ipython3",
   "version": "3.9.7"
  }
 },
 "nbformat": 4,
 "nbformat_minor": 5
}
