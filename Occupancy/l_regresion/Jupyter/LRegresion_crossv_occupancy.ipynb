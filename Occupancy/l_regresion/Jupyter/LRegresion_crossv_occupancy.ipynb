{
 "cells": [
  {
   "cell_type": "code",
   "execution_count": 73,
   "id": "44a10324",
   "metadata": {},
   "outputs": [
    {
     "name": "stdout",
     "output_type": "stream",
     "text": [
      "CPU times: user 70 µs, sys: 1 µs, total: 71 µs\n",
      "Wall time: 88.2 µs\n"
     ]
    }
   ],
   "source": [
    "%%time\n",
    "import csv\n",
    "import pandas as pd\n",
    "from sklearn import metrics\n",
    "from sklearn.metrics import confusion_matrix\n",
    "from sklearn.linear_model import LogisticRegression\n",
    "from sklearn.model_selection import train_test_split\n",
    "from sklearn.model_selection import StratifiedKFold, KFold"
   ]
  },
  {
   "cell_type": "code",
   "execution_count": 74,
   "id": "09651fe7",
   "metadata": {},
   "outputs": [
    {
     "name": "stdout",
     "output_type": "stream",
     "text": [
      "CPU times: user 69.5 ms, sys: 19.8 ms, total: 89.3 ms\n",
      "Wall time: 103 ms\n"
     ]
    }
   ],
   "source": [
    "%%time\n",
    "dataset = pd.read_csv('/home/nuria/Documents/Occupancy/Occupancy.csv', header= 0)\n",
    "headers = list(dataset.columns.values)"
   ]
  },
  {
   "cell_type": "code",
   "execution_count": 75,
   "id": "c1baf937",
   "metadata": {},
   "outputs": [
    {
     "name": "stdout",
     "output_type": "stream",
     "text": [
      "CPU times: user 5.24 ms, sys: 16 µs, total: 5.26 ms\n",
      "Wall time: 5.39 ms\n"
     ]
    }
   ],
   "source": [
    "%%time\n",
    "x= dataset.drop(['Occupancy', 'date'], axis= 1).values#quitar occupancy y date\n",
    "y= dataset['Occupancy'].values#la salida"
   ]
  },
  {
   "cell_type": "code",
   "execution_count": 76,
   "id": "bb7c866e",
   "metadata": {},
   "outputs": [
    {
     "name": "stdout",
     "output_type": "stream",
     "text": [
      "CPU times: user 25 ms, sys: 0 ns, total: 25 ms\n",
      "Wall time: 33.3 ms\n"
     ]
    }
   ],
   "source": [
    "%%time\n",
    "#-- 70% train 30% test y estratificado--\n",
    "x_train, x_test, y_train, y_test = train_test_split(x,y, test_size= 0.30, stratify=y)"
   ]
  },
  {
   "cell_type": "code",
   "execution_count": 77,
   "id": "d230d75b",
   "metadata": {},
   "outputs": [
    {
     "name": "stdout",
     "output_type": "stream",
     "text": [
      "CPU times: user 117 µs, sys: 0 ns, total: 117 µs\n",
      "Wall time: 133 µs\n"
     ]
    }
   ],
   "source": [
    "%%time\n",
    "#skf = StratifiedKFold(n_splits= 5)\n",
    "skf = KFold(n_splits= 5)\n",
    "l_regr= LogisticRegression()\n",
    "\n",
    "acc_score= []\n",
    "prec_score= []\n",
    "rec_score= []"
   ]
  },
  {
   "cell_type": "code",
   "execution_count": 78,
   "id": "ed49d99b",
   "metadata": {},
   "outputs": [
    {
     "name": "stdout",
     "output_type": "stream",
     "text": [
      "CPU times: user 15.5 s, sys: 18.4 ms, total: 15.5 s\n",
      "Wall time: 8.21 s\n"
     ]
    }
   ],
   "source": [
    "%%time\n",
    "for train_index, test_index in skf.split(x_train, y_train):\n",
    "    x_subtrain, x_subtest = x_train[train_index,:], x_train[test_index,:]\n",
    "    y_subtrain, y_subtest = y_train[train_index], y_train[test_index]\n",
    "    \n",
    "    l_regr.fit(x_subtrain, y_subtrain)\n",
    "    \n",
    "    pred_values = l_regr.predict(x_subtest)\n",
    "    \n",
    "    acc = metrics.accuracy_score(y_subtest, pred_values)*100\n",
    "    acc_score.append(\"{:.1f}\".format(acc)+\"%\")\n",
    "    prec = metrics.precision_score(y_subtest, pred_values)*100\n",
    "    prec_score.append(\"{:.1f}\".format(prec)+\"%\")\n",
    "    rec = metrics.recall_score(y_subtest, pred_values)*100\n",
    "    rec_score.append(\"{:.1f}\".format(rec)+\"%\")"
   ]
  },
  {
   "cell_type": "code",
   "execution_count": 79,
   "id": "cecbedf8",
   "metadata": {},
   "outputs": [
    {
     "name": "stdout",
     "output_type": "stream",
     "text": [
      "Accuracy of each fold ['99.0%', '99.0%', '98.6%', '99.1%', '98.5%']\n",
      "Precision of each fold ['96.0%', '95.8%', '95.4%', '96.8%', '94.5%']\n",
      "Recall of each fold ['99.8%', '99.7%', '99.0%', '99.7%', '99.4%']\n",
      "CPU times: user 31.1 ms, sys: 0 ns, total: 31.1 ms\n",
      "Wall time: 18.3 ms\n"
     ]
    }
   ],
   "source": [
    "%%time\n",
    "print('Accuracy of each fold', acc_score)\n",
    "print('Precision of each fold', prec_score)\n",
    "print('Recall of each fold', rec_score)"
   ]
  },
  {
   "cell_type": "code",
   "execution_count": 80,
   "id": "a86d7e43",
   "metadata": {},
   "outputs": [
    {
     "name": "stdout",
     "output_type": "stream",
     "text": [
      "Accuracy 99.0 %\n",
      "Precision:  96.1 %\n",
      "Recall:  99.6 %\n",
      "CPU times: user 154 ms, sys: 7.84 ms, total: 162 ms\n",
      "Wall time: 115 ms\n"
     ]
    }
   ],
   "source": [
    "%%time\n",
    "occup_pred = l_regr.predict(x_test)\n",
    "\n",
    "accuracy= metrics.accuracy_score(y_test, occup_pred)*100\n",
    "print(\"Accuracy {:.1f}\".format(accuracy),\"%\")\n",
    "precision = metrics.precision_score(y_test, occup_pred)*100\n",
    "print(\"Precision: \",\"{:.1f}\".format(precision),\"%\")\n",
    "recall = metrics.recall_score(y_test, occup_pred)*100\n",
    "print(\"Recall: \",\"{:.1f}\".format(recall),\"%\")"
   ]
  }
 ],
 "metadata": {
  "kernelspec": {
   "display_name": "Python 3 (ipykernel)",
   "language": "python",
   "name": "python3"
  },
  "language_info": {
   "codemirror_mode": {
    "name": "ipython",
    "version": 3
   },
   "file_extension": ".py",
   "mimetype": "text/x-python",
   "name": "python",
   "nbconvert_exporter": "python",
   "pygments_lexer": "ipython3",
   "version": "3.9.10"
  }
 },
 "nbformat": 4,
 "nbformat_minor": 5
}
