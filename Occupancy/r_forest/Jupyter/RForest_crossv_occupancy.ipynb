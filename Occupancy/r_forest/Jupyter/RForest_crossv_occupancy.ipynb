{
 "cells": [
  {
   "cell_type": "code",
   "execution_count": 17,
   "id": "05b9f194",
   "metadata": {},
   "outputs": [
    {
     "name": "stdout",
     "output_type": "stream",
     "text": [
      "CPU times: user 78 µs, sys: 5 µs, total: 83 µs\n",
      "Wall time: 98 µs\n"
     ]
    }
   ],
   "source": [
    "%%time\n",
    "import csv\n",
    "import pandas as pd\n",
    "from sklearn import metrics\n",
    "from sklearn.metrics import confusion_matrix\n",
    "from sklearn.model_selection import train_test_split\n",
    "from sklearn.model_selection import KFold\n",
    "from sklearn.ensemble import RandomForestClassifier"
   ]
  },
  {
   "cell_type": "code",
   "execution_count": 18,
   "id": "e7c4447a",
   "metadata": {},
   "outputs": [
    {
     "name": "stdout",
     "output_type": "stream",
     "text": [
      "CPU times: user 71.7 ms, sys: 27.3 ms, total: 99 ms\n",
      "Wall time: 95.6 ms\n"
     ]
    }
   ],
   "source": [
    "%%time\n",
    "dataset = pd.read_csv('/home/nuria/Documents/Occupancy/Occupancy.csv', header= 0)\n",
    "headers = list(dataset.columns.values)"
   ]
  },
  {
   "cell_type": "code",
   "execution_count": 19,
   "id": "37561567",
   "metadata": {},
   "outputs": [
    {
     "name": "stdout",
     "output_type": "stream",
     "text": [
      "CPU times: user 5.38 ms, sys: 0 ns, total: 5.38 ms\n",
      "Wall time: 5.09 ms\n"
     ]
    }
   ],
   "source": [
    "%%time\n",
    "x= dataset.drop(['Occupancy', 'date'], axis= 1).values#quitar occupancy y date\n",
    "y= dataset['Occupancy'].values#la salida"
   ]
  },
  {
   "cell_type": "code",
   "execution_count": 20,
   "id": "d8c6f7eb",
   "metadata": {},
   "outputs": [
    {
     "name": "stdout",
     "output_type": "stream",
     "text": [
      "CPU times: user 30.3 ms, sys: 3.92 ms, total: 34.3 ms\n",
      "Wall time: 34.4 ms\n"
     ]
    }
   ],
   "source": [
    "%%time\n",
    "#-- 70% train 30% test y estratificado--\n",
    "x_train, x_test, y_train, y_test = train_test_split(x,y, test_size= 0.30, stratify=y)"
   ]
  },
  {
   "cell_type": "code",
   "execution_count": 21,
   "id": "0b4e776e",
   "metadata": {},
   "outputs": [
    {
     "name": "stdout",
     "output_type": "stream",
     "text": [
      "CPU times: user 502 µs, sys: 0 ns, total: 502 µs\n",
      "Wall time: 544 µs\n"
     ]
    }
   ],
   "source": [
    "%%time\n",
    "#skf = StratifiedKFold(n_splits= 5)\n",
    "skf = KFold(n_splits= 5)\n",
    "r_forest= RandomForestClassifier()\n",
    "\n",
    "acc_score= []\n",
    "prec_score= []\n",
    "rec_score= []"
   ]
  },
  {
   "cell_type": "code",
   "execution_count": 22,
   "id": "5f171bb1",
   "metadata": {},
   "outputs": [
    {
     "name": "stdout",
     "output_type": "stream",
     "text": [
      "CPU times: user 11.9 s, sys: 18.9 ms, total: 12 s\n",
      "Wall time: 12 s\n"
     ]
    }
   ],
   "source": [
    "%%time\n",
    "for train_index, test_index in skf.split(x_train, y_train):\n",
    "    x_subtrain, x_subtest = x_train[train_index,:], x_train[test_index,:]\n",
    "    y_subtrain, y_subtest = y_train[train_index], y_train[test_index]\n",
    "    \n",
    "    r_forest.fit(x_subtrain, y_subtrain)\n",
    "    \n",
    "    pred_values = r_forest.predict(x_subtest)\n",
    "    \n",
    "    acc = metrics.accuracy_score(y_subtest, pred_values)*100\n",
    "    acc_score.append(\"{:.1f}\".format(acc)+\"%\")\n",
    "    prec = metrics.precision_score(y_subtest, pred_values)*100\n",
    "    prec_score.append(\"{:.1f}\".format(prec)+\"%\")\n",
    "    rec = metrics.recall_score(y_subtest, pred_values)*100\n",
    "    rec_score.append(\"{:.1f}\".format(rec)+\"%\")"
   ]
  },
  {
   "cell_type": "code",
   "execution_count": 23,
   "id": "0a8b4468",
   "metadata": {},
   "outputs": [
    {
     "name": "stdout",
     "output_type": "stream",
     "text": [
      "Accuracy of each fold ['99.3%', '99.0%', '99.2%', '99.4%', '99.1%']\n",
      "Precision of each fold ['98.2%', '97.3%', '97.5%', '98.5%', '97.7%']\n",
      "Recall of each fold ['98.8%', '98.7%', '99.0%', '98.9%', '98.4%']\n",
      "CPU times: user 830 µs, sys: 35 µs, total: 865 µs\n",
      "Wall time: 898 µs\n"
     ]
    }
   ],
   "source": [
    "%%time\n",
    "print('Accuracy of each fold', acc_score)\n",
    "print('Precision of each fold', prec_score)\n",
    "print('Recall of each fold', rec_score)"
   ]
  },
  {
   "cell_type": "code",
   "execution_count": 24,
   "id": "c1c33d2c",
   "metadata": {},
   "outputs": [
    {
     "name": "stdout",
     "output_type": "stream",
     "text": [
      "Accuracy 99.5 %\n",
      "Precision:  98.4 %\n",
      "Recall:  99.4 %\n",
      "CPU times: user 262 ms, sys: 5.07 ms, total: 268 ms\n",
      "Wall time: 268 ms\n"
     ]
    }
   ],
   "source": [
    "%%time\n",
    "occup_pred = r_forest.predict(x_test)\n",
    "\n",
    "accuracy= metrics.accuracy_score(y_test, occup_pred)*100\n",
    "print(\"Accuracy {:.1f}\".format(accuracy),\"%\")\n",
    "precision = metrics.precision_score(y_test, occup_pred)*100\n",
    "print(\"Precision: \",\"{:.1f}\".format(precision),\"%\")\n",
    "recall = metrics.recall_score(y_test, occup_pred)*100\n",
    "print(\"Recall: \",\"{:.1f}\".format(recall),\"%\")"
   ]
  }
 ],
 "metadata": {
  "kernelspec": {
   "display_name": "Python 3 (ipykernel)",
   "language": "python",
   "name": "python3"
  },
  "language_info": {
   "codemirror_mode": {
    "name": "ipython",
    "version": 3
   },
   "file_extension": ".py",
   "mimetype": "text/x-python",
   "name": "python",
   "nbconvert_exporter": "python",
   "pygments_lexer": "ipython3",
   "version": "3.9.10"
  }
 },
 "nbformat": 4,
 "nbformat_minor": 5
}
