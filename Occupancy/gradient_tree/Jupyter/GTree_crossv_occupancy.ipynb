{
 "cells": [
  {
   "cell_type": "code",
   "execution_count": 33,
   "id": "35073430",
   "metadata": {},
   "outputs": [
    {
     "name": "stdout",
     "output_type": "stream",
     "text": [
      "CPU times: user 64 µs, sys: 2 µs, total: 66 µs\n",
      "Wall time: 81.8 µs\n"
     ]
    }
   ],
   "source": [
    "%%time\n",
    "import csv\n",
    "import pandas as pd\n",
    "import numpy as np\n",
    "from sklearn import metrics\n",
    "from sklearn.model_selection import train_test_split\n",
    "from sklearn.ensemble import GradientBoostingClassifier\n",
    "from sklearn.model_selection import StratifiedKFold, KFold"
   ]
  },
  {
   "cell_type": "code",
   "execution_count": 34,
   "id": "c6367b61",
   "metadata": {},
   "outputs": [
    {
     "name": "stdout",
     "output_type": "stream",
     "text": [
      "CPU times: user 76.3 ms, sys: 15.8 ms, total: 92.1 ms\n",
      "Wall time: 97.5 ms\n"
     ]
    }
   ],
   "source": [
    "%%time\n",
    "dataset = pd.read_csv('/home/nuria/Documents/Occupancy/Occupancy.csv', header= 0)\n",
    "headers = list(dataset.columns.values)"
   ]
  },
  {
   "cell_type": "code",
   "execution_count": 35,
   "id": "600e5674",
   "metadata": {},
   "outputs": [
    {
     "name": "stdout",
     "output_type": "stream",
     "text": [
      "CPU times: user 7.01 ms, sys: 69 µs, total: 7.08 ms\n",
      "Wall time: 17.9 ms\n"
     ]
    }
   ],
   "source": [
    "%%time\n",
    "x= dataset.drop(['Occupancy', 'date'], axis= 1).values#quitar occupancy y date\n",
    "y= dataset['Occupancy'].values#la salida"
   ]
  },
  {
   "cell_type": "code",
   "execution_count": 36,
   "id": "0c02ff76",
   "metadata": {},
   "outputs": [
    {
     "name": "stdout",
     "output_type": "stream",
     "text": [
      "CPU times: user 26.8 ms, sys: 7.98 ms, total: 34.8 ms\n",
      "Wall time: 47.2 ms\n"
     ]
    }
   ],
   "source": [
    "%%time\n",
    "#-- 70% train 30% test y estratificado--\n",
    "x_train, x_test, y_train, y_test = train_test_split(x,y, test_size= 0.3, stratify=y)"
   ]
  },
  {
   "cell_type": "code",
   "execution_count": 37,
   "id": "7f0c0aee",
   "metadata": {},
   "outputs": [
    {
     "name": "stdout",
     "output_type": "stream",
     "text": [
      "CPU times: user 412 µs, sys: 9 µs, total: 421 µs\n",
      "Wall time: 460 µs\n"
     ]
    }
   ],
   "source": [
    "%%time\n",
    "#skf = StratifiedKFold(n_splits= 5)\n",
    "skf = KFold(n_splits= 5)\n",
    "gtb = GradientBoostingClassifier()\n",
    "\n",
    "acc_score= []\n",
    "prec_score= []\n",
    "rec_score= []"
   ]
  },
  {
   "cell_type": "code",
   "execution_count": 38,
   "id": "cbc9758a",
   "metadata": {},
   "outputs": [
    {
     "name": "stdout",
     "output_type": "stream",
     "text": [
      "CPU times: user 15.4 s, sys: 11.7 ms, total: 15.4 s\n",
      "Wall time: 15.4 s\n"
     ]
    }
   ],
   "source": [
    "%%time\n",
    "for train_index, test_index in skf.split(x_train, y_train):\n",
    "    x_subtrain, x_subtest = x_train[train_index,:], x_train[test_index,:]\n",
    "    y_subtrain, y_subtest = y_train[train_index], y_train[test_index]\n",
    "    \n",
    "    gtb.fit(x_subtrain, y_subtrain)\n",
    "    \n",
    "    pred_values = gtb.predict(x_subtest)\n",
    "    \n",
    "    acc = metrics.accuracy_score(y_subtest, pred_values)*100\n",
    "    acc_score.append(\"{:.1f}\".format(acc)+\"%\")\n",
    "    prec = metrics.precision_score(y_subtest, pred_values)*100\n",
    "    prec_score.append(\"{:.1f}\".format(prec)+\"%\")\n",
    "    rec = metrics.recall_score(y_subtest, pred_values)*100\n",
    "    rec_score.append(\"{:.1f}\".format(rec)+\"%\")"
   ]
  },
  {
   "cell_type": "code",
   "execution_count": 39,
   "id": "30e0a6de",
   "metadata": {},
   "outputs": [
    {
     "name": "stdout",
     "output_type": "stream",
     "text": [
      "Accuracy of each fold ['99.3%', '99.0%', '98.9%', '99.2%', '98.9%']\n",
      "Precision of each fold ['97.7%', '96.5%', '96.2%', '97.0%', '96.2%']\n",
      "Recall of each fold ['99.3%', '99.2%', '99.1%', '99.7%', '99.0%']\n",
      "CPU times: user 1.25 ms, sys: 24 µs, total: 1.28 ms\n",
      "Wall time: 994 µs\n"
     ]
    }
   ],
   "source": [
    "%%time\n",
    "print('Accuracy of each fold', acc_score)\n",
    "print('Precision of each fold', prec_score)\n",
    "print('Recall of each fold', rec_score)"
   ]
  },
  {
   "cell_type": "code",
   "execution_count": 40,
   "id": "b18c1f6e",
   "metadata": {},
   "outputs": [
    {
     "name": "stdout",
     "output_type": "stream",
     "text": [
      "Accuracy 99.0 %\n",
      "Precision:  97.3 %\n",
      "Recall:  98.4 %\n",
      "CPU times: user 58.2 ms, sys: 12 ms, total: 70.2 ms\n",
      "Wall time: 67.3 ms\n"
     ]
    }
   ],
   "source": [
    "%%time\n",
    "occup_pred = gtb.predict(x_test)\n",
    "\n",
    "accuracy= metrics.accuracy_score(y_test, occup_pred)*100\n",
    "print(\"Accuracy {:.1f}\".format(accuracy),\"%\")\n",
    "precision = metrics.precision_score(y_test, occup_pred)*100\n",
    "print(\"Precision: \",\"{:.1f}\".format(precision),\"%\")\n",
    "recall = metrics.recall_score(y_test, occup_pred)*100\n",
    "print(\"Recall: \",\"{:.1f}\".format(recall),\"%\")"
   ]
  }
 ],
 "metadata": {
  "kernelspec": {
   "display_name": "Python 3 (ipykernel)",
   "language": "python",
   "name": "python3"
  },
  "language_info": {
   "codemirror_mode": {
    "name": "ipython",
    "version": 3
   },
   "file_extension": ".py",
   "mimetype": "text/x-python",
   "name": "python",
   "nbconvert_exporter": "python",
   "pygments_lexer": "ipython3",
   "version": "3.9.10"
  }
 },
 "nbformat": 4,
 "nbformat_minor": 5
}
