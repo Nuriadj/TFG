{
 "cells": [
  {
   "cell_type": "code",
   "execution_count": 49,
   "id": "136fdf35",
   "metadata": {},
   "outputs": [
    {
     "name": "stdout",
     "output_type": "stream",
     "text": [
      "CPU times: user 55 µs, sys: 4 µs, total: 59 µs\n",
      "Wall time: 73.2 µs\n"
     ]
    }
   ],
   "source": [
    "%%time\n",
    "import csv\n",
    "import pandas as pd\n",
    "import numpy as np\n",
    "from sklearn import svm, metrics\n",
    "from sklearn.model_selection import train_test_split\n",
    "from sklearn.model_selection import StratifiedKFold, KFold"
   ]
  },
  {
   "cell_type": "code",
   "execution_count": 50,
   "id": "d7454555",
   "metadata": {},
   "outputs": [
    {
     "name": "stdout",
     "output_type": "stream",
     "text": [
      "CPU times: user 71.2 ms, sys: 22.6 ms, total: 93.8 ms\n",
      "Wall time: 148 ms\n"
     ]
    }
   ],
   "source": [
    "%%time\n",
    "dataset = pd.read_csv('/home/nuria/Documents/Occupancy/Occupancy.csv', header= 0)\n",
    "headers = list(dataset.columns.values)"
   ]
  },
  {
   "cell_type": "code",
   "execution_count": 51,
   "id": "5fc5d65f",
   "metadata": {},
   "outputs": [
    {
     "name": "stdout",
     "output_type": "stream",
     "text": [
      "CPU times: user 6.54 ms, sys: 0 ns, total: 6.54 ms\n",
      "Wall time: 7.17 ms\n"
     ]
    }
   ],
   "source": [
    "%%time\n",
    "x= dataset.drop(['Occupancy', 'date'], axis= 1).values#quitar occupancy y date\n",
    "y= dataset['Occupancy'].values#la salida"
   ]
  },
  {
   "cell_type": "code",
   "execution_count": 52,
   "id": "6d6c9cfb",
   "metadata": {},
   "outputs": [
    {
     "name": "stdout",
     "output_type": "stream",
     "text": [
      "CPU times: user 24.7 ms, sys: 3.73 ms, total: 28.4 ms\n",
      "Wall time: 40.3 ms\n"
     ]
    }
   ],
   "source": [
    "%%time\n",
    "#-- 70% train 30% test y estratificado--\n",
    "x_train, x_test, y_train, y_test = train_test_split(x,y, test_size= 0.3, stratify=y)"
   ]
  },
  {
   "cell_type": "code",
   "execution_count": 53,
   "id": "8eae866d",
   "metadata": {},
   "outputs": [
    {
     "name": "stdout",
     "output_type": "stream",
     "text": [
      "CPU times: user 266 µs, sys: 22 µs, total: 288 µs\n",
      "Wall time: 320 µs\n"
     ]
    }
   ],
   "source": [
    "%%time\n",
    "#skf = StratifiedKFold(n_splits= 5)\n",
    "skf = KFold(n_splits= 5)\n",
    "model_svm= svm.SVC()\n",
    "\n",
    "acc_score= []\n",
    "prec_score= []\n",
    "rec_score= []"
   ]
  },
  {
   "cell_type": "code",
   "execution_count": 54,
   "id": "c12c5a6d",
   "metadata": {},
   "outputs": [
    {
     "name": "stdout",
     "output_type": "stream",
     "text": [
      "CPU times: user 5.89 s, sys: 342 ms, total: 6.23 s\n",
      "Wall time: 6.28 s\n"
     ]
    }
   ],
   "source": [
    "%%time\n",
    "for train_index, test_index in skf.split(x_train, y_train):\n",
    "    x_subtrain, x_subtest = x_train[train_index,:], x_train[test_index,:]\n",
    "    y_subtrain, y_subtest = y_train[train_index], y_train[test_index]\n",
    "    \n",
    "    model_svm.fit(x_subtrain, y_subtrain)\n",
    "    \n",
    "    pred_values = model_svm.predict(x_subtest)\n",
    "    \n",
    "    acc = metrics.accuracy_score(y_subtest, pred_values)*100\n",
    "    acc_score.append(\"{:.1f}\".format(acc)+\"%\")\n",
    "    prec = metrics.precision_score(y_subtest, pred_values)*100\n",
    "    prec_score.append(\"{:.1f}\".format(prec)+\"%\")\n",
    "    rec = metrics.recall_score(y_subtest, pred_values)*100\n",
    "    rec_score.append(\"{:.1f}\".format(rec)+\"%\")"
   ]
  },
  {
   "cell_type": "code",
   "execution_count": 55,
   "id": "59e03c65",
   "metadata": {},
   "outputs": [
    {
     "name": "stdout",
     "output_type": "stream",
     "text": [
      "Accuracy of each fold ['98.7%', '99.0%', '98.6%', '99.1%', '98.9%']\n",
      "Precision of each fold ['95.1%', '96.5%', '94.9%', '96.4%', '95.0%']\n",
      "Recall of each fold ['99.6%', '99.4%', '99.4%', '99.8%', '100.0%']\n",
      "CPU times: user 2.93 ms, sys: 3.96 ms, total: 6.89 ms\n",
      "Wall time: 14.5 ms\n"
     ]
    }
   ],
   "source": [
    "%%time\n",
    "print('Accuracy of each fold', acc_score)\n",
    "print('Precision of each fold', prec_score)\n",
    "print('Recall of each fold', rec_score)"
   ]
  },
  {
   "cell_type": "code",
   "execution_count": 56,
   "id": "2346a4d7",
   "metadata": {},
   "outputs": [
    {
     "name": "stdout",
     "output_type": "stream",
     "text": [
      "Accuracy 98.9 %\n",
      "Precision:  96.1 %\n",
      "Recall:  99.4 %\n",
      "CPU times: user 487 ms, sys: 11 ms, total: 498 ms\n",
      "Wall time: 498 ms\n"
     ]
    }
   ],
   "source": [
    "%%time\n",
    "occup_pred = model_svm.predict(x_test)\n",
    "\n",
    "accuracy= metrics.accuracy_score(y_test, occup_pred)*100\n",
    "print(\"Accuracy {:.1f}\".format(accuracy),\"%\")\n",
    "precision = metrics.precision_score(y_test, occup_pred)*100\n",
    "print(\"Precision: \",\"{:.1f}\".format(precision),\"%\")\n",
    "recall = metrics.recall_score(y_test, occup_pred)*100\n",
    "print(\"Recall: \",\"{:.1f}\".format(recall),\"%\")"
   ]
  }
 ],
 "metadata": {
  "kernelspec": {
   "display_name": "Python 3 (ipykernel)",
   "language": "python",
   "name": "python3"
  },
  "language_info": {
   "codemirror_mode": {
    "name": "ipython",
    "version": 3
   },
   "file_extension": ".py",
   "mimetype": "text/x-python",
   "name": "python",
   "nbconvert_exporter": "python",
   "pygments_lexer": "ipython3",
   "version": "3.9.10"
  }
 },
 "nbformat": 4,
 "nbformat_minor": 5
}
