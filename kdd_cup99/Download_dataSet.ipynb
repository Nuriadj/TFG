{
 "cells": [
  {
   "cell_type": "code",
   "execution_count": 2,
   "id": "19673c68",
   "metadata": {},
   "outputs": [],
   "source": [
    "import sklearn\n",
    "from sklearn import datasets\n",
    "import pandas as pd\n",
    "import numpy"
   ]
  },
  {
   "cell_type": "code",
   "execution_count": 3,
   "id": "09ceaa2a",
   "metadata": {},
   "outputs": [],
   "source": [
    "#data= sklearn.datasets.fetch_kddcup99(data_home=\"/home/nuria/Documents/TFG/sklearnDataSet\", percent10=True, as_frame= True)\n",
    "#print(data)"
   ]
  },
  {
   "cell_type": "code",
   "execution_count": 6,
   "id": "24794a60",
   "metadata": {
    "scrolled": true
   },
   "outputs": [],
   "source": [
    "dataset= pd.read_csv('/home/nuria/Documents/TFG/kdd_cup99/kddcup_10_per.csv')\n",
    "\n",
    "#change Multi-class to binary-class\n",
    "dataset['normal.'] = dataset['normal.'].replace(['back.', 'buffer_overflow.', 'ftp_write.', 'guess_passwd.', 'imap.', 'ipsweep.', 'land.', 'loadmodule.', 'multihop.', 'neptune.', 'nmap.', 'perl.', 'phf.', 'pod.', 'portsweep.', 'rootkit.', 'satan.', 'smurf.', 'spy.', 'teardrop.', 'warezclient.', 'warezmaster.'], 'attack')\n",
    "dataset.to_csv('kddcup_10_perBinary.csv', header= False, index= False)"
   ]
  }
 ],
 "metadata": {
  "kernelspec": {
   "display_name": "Python 3 (ipykernel)",
   "language": "python",
   "name": "python3"
  },
  "language_info": {
   "codemirror_mode": {
    "name": "ipython",
    "version": 3
   },
   "file_extension": ".py",
   "mimetype": "text/x-python",
   "name": "python",
   "nbconvert_exporter": "python",
   "pygments_lexer": "ipython3",
   "version": "3.9.10"
  }
 },
 "nbformat": 4,
 "nbformat_minor": 5
}
