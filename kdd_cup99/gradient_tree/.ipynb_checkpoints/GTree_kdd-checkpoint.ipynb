{
 "cells": [
  {
   "cell_type": "code",
   "execution_count": null,
   "id": "528e7057",
   "metadata": {},
   "outputs": [],
   "source": [
    "import csv\n",
    "import pandas as pd\n",
    "from sklearn import metrics\n",
    "from sklearn import preprocessing\n",
    "from sklearn.metrics import confusion_matrix\n",
    "from sklearn.linear_model import LogisticRegression\n",
    "from sklearn.model_selection import train_test_split\n",
    "from sklearn.ensemble import GradientBoostingClassifier\n",
    "import matplotlib.pyplot as plt\n",
    "from collections import Counter"
   ]
  },
  {
   "cell_type": "code",
   "execution_count": null,
   "id": "aa607161",
   "metadata": {},
   "outputs": [],
   "source": [
    "dataset = pd.read_csv('/home/nuria/Documents/TFG/kdd_cup99/kddcup_10_perBinary.csv', header= None)\n",
    "headers = list(dataset.columns.values)"
   ]
  },
  {
   "cell_type": "code",
   "execution_count": null,
   "id": "5fb037d7",
   "metadata": {},
   "outputs": [],
   "source": [
    "#Eliminar datos Redundantes\n",
    "dataset.drop(dataset.columns[19], axis= 1, inplace= True)\n",
    "dataset.drop(dataset.columns[20], axis= 1, inplace= True)"
   ]
  },
  {
   "cell_type": "code",
   "execution_count": null,
   "id": "c0a814a2",
   "metadata": {},
   "outputs": [],
   "source": [
    "#Las tres primeras columnas contienen strings\n",
    "\n",
    "dataset[1] = dataset[1].astype('category')\n",
    "dataset[2] = dataset[2].astype('category')\n",
    "dataset[3] = dataset[3].astype('category')\n",
    "cat_columns = dataset.select_dtypes(['category']).columns\n",
    "dataset[cat_columns] = dataset[cat_columns].apply(lambda x: x.cat.codes)"
   ]
  },
  {
   "cell_type": "code",
   "execution_count": null,
   "id": "26f13d73",
   "metadata": {},
   "outputs": [],
   "source": [
    "#Eliminar duplicados\n",
    "dataset.drop_duplicates(subset=None, keep='first', inplace=True)"
   ]
  },
  {
   "cell_type": "code",
   "execution_count": null,
   "id": "52198911",
   "metadata": {},
   "outputs": [],
   "source": [
    "x= dataset.iloc[:, :-1].values\n",
    "y= dataset.iloc[:, 39].values"
   ]
  },
  {
   "cell_type": "code",
   "execution_count": null,
   "id": "49faf1dd",
   "metadata": {},
   "outputs": [],
   "source": [
    "#-- 70% train 30% test y estratificado--\n",
    "x_train, x_test, y_train, y_test = train_test_split(x,y, test_size= 0.30, stratify=y)\n",
    "\n",
    "scaler = preprocessing.StandardScaler().fit(x_train)\n",
    "x_scaled = scaler.transform(x_train)\n",
    "\n",
    "scaler = preprocessing.StandardScaler().fit(x_test)\n",
    "x_test_scaled = scaler.transform(x_test)"
   ]
  },
  {
   "cell_type": "code",
   "execution_count": null,
   "id": "2f0b77df",
   "metadata": {},
   "outputs": [],
   "source": [
    "gtb = GradientBoostingClassifier()\n",
    "gtb.fit(x_scaled, y_train)\n",
    "occup_pred = gtb.predict(x_test_scaled)"
   ]
  },
  {
   "cell_type": "code",
   "execution_count": null,
   "id": "fffde271",
   "metadata": {},
   "outputs": [],
   "source": [
    "accuracy = metrics.accuracy_score(y_test, occup_pred)*100\n",
    "print(\"Accuracy: \",\"{:.1f}\".format(accuracy),\"%\")\n",
    "precision = metrics.precision_score(y_test, occup_pred, pos_label='normal.')*100\n",
    "print(\"Precision: \",\"{:.1f}\".format(precision),\"%\")\n",
    "recall = metrics.recall_score(y_test, occup_pred, pos_label='normal.')*100\n",
    "print(\"Recall: \",\"{:.1f}\".format(recall),\"%\")"
   ]
  }
 ],
 "metadata": {
  "kernelspec": {
   "display_name": "Python 3 (ipykernel)",
   "language": "python",
   "name": "python3"
  },
  "language_info": {
   "codemirror_mode": {
    "name": "ipython",
    "version": 3
   },
   "file_extension": ".py",
   "mimetype": "text/x-python",
   "name": "python",
   "nbconvert_exporter": "python",
   "pygments_lexer": "ipython3",
   "version": "3.9.10"
  }
 },
 "nbformat": 4,
 "nbformat_minor": 5
}
