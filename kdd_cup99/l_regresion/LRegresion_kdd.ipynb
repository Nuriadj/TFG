{
 "cells": [
  {
   "cell_type": "code",
   "execution_count": 274,
   "id": "3688d428",
   "metadata": {},
   "outputs": [],
   "source": [
    "import csv\n",
    "import pandas as pd\n",
    "from sklearn import metrics\n",
    "from sklearn import preprocessing\n",
    "from sklearn.metrics import confusion_matrix\n",
    "from sklearn.linear_model import LogisticRegression\n",
    "from sklearn.model_selection import train_test_split\n",
    "import matplotlib.pyplot as plt\n",
    "from collections import Counter"
   ]
  },
  {
   "cell_type": "code",
   "execution_count": 275,
   "id": "4318aeee",
   "metadata": {},
   "outputs": [
    {
     "name": "stdout",
     "output_type": "stream",
     "text": [
      "CPU times: user 4.47 s, sys: 701 ms, total: 5.17 s\n",
      "Wall time: 5.19 s\n"
     ]
    }
   ],
   "source": [
    "%%time\n",
    "dataset = pd.read_csv('/home/nuria/Documents/TFG/kdd_cup99/kddcup_10_perBinary.csv', header= None)\n",
    "headers = list(dataset.columns.values)\n",
    "#print(headers)"
   ]
  },
  {
   "cell_type": "code",
   "execution_count": 276,
   "id": "0fcc62d8",
   "metadata": {},
   "outputs": [
    {
     "name": "stdout",
     "output_type": "stream",
     "text": [
      "CPU times: user 300 ms, sys: 132 ms, total: 432 ms\n",
      "Wall time: 420 ms\n"
     ]
    }
   ],
   "source": [
    "%%time\n",
    "#for i in range(41):\n",
    "#    print(\"\\ni: \",i,\"\\n\",dataset[i].value_counts())\n",
    "\n",
    "#Eliminar datos Redundantes\n",
    "dataset.drop(dataset.columns[19], axis= 1, inplace= True)\n",
    "dataset.drop(dataset.columns[20], axis= 1, inplace= True)"
   ]
  },
  {
   "cell_type": "code",
   "execution_count": 277,
   "id": "8913a2b4",
   "metadata": {},
   "outputs": [
    {
     "name": "stdout",
     "output_type": "stream",
     "text": [
      "CPU times: user 302 ms, sys: 3.83 ms, total: 306 ms\n",
      "Wall time: 306 ms\n"
     ]
    }
   ],
   "source": [
    "%%time\n",
    "#Las tres primeras columnas contienen strings\n",
    "\n",
    "dataset[1] = dataset[1].astype('category')\n",
    "dataset[2] = dataset[2].astype('category')\n",
    "dataset[3] = dataset[3].astype('category')\n",
    "cat_columns = dataset.select_dtypes(['category']).columns\n",
    "dataset[cat_columns] = dataset[cat_columns].apply(lambda x: x.cat.codes)\n",
    "\n",
    "#print(\"\\nafter:\\n\",pd.DataFrame(dataset, columns=[0]).dtypes)"
   ]
  },
  {
   "cell_type": "code",
   "execution_count": 278,
   "id": "92b0338f",
   "metadata": {},
   "outputs": [
    {
     "name": "stdout",
     "output_type": "stream",
     "text": [
      "CPU times: user 997 ms, sys: 91.8 ms, total: 1.09 s\n",
      "Wall time: 1.1 s\n"
     ]
    }
   ],
   "source": [
    "%%time\n",
    "#Eliminar duplicados\n",
    "dataset.drop_duplicates(subset=None, keep='first', inplace=True)\n",
    "#print(dataset)"
   ]
  },
  {
   "cell_type": "code",
   "execution_count": 279,
   "id": "afee9edc",
   "metadata": {},
   "outputs": [
    {
     "name": "stdout",
     "output_type": "stream",
     "text": [
      "CPU times: user 450 ms, sys: 274 µs, total: 450 ms\n",
      "Wall time: 454 ms\n"
     ]
    }
   ],
   "source": [
    "%%time\n",
    "dataset.drop_duplicates(subset=None, keep='first', inplace=True)\n",
    "#print(dataset)"
   ]
  },
  {
   "cell_type": "code",
   "execution_count": 280,
   "id": "e479bed1",
   "metadata": {},
   "outputs": [
    {
     "name": "stdout",
     "output_type": "stream",
     "text": [
      "CPU times: user 61.2 ms, sys: 0 ns, total: 61.2 ms\n",
      "Wall time: 78.1 ms\n"
     ]
    }
   ],
   "source": [
    "%%time\n",
    "x= dataset.iloc[:, :-1].values\n",
    "y= dataset.iloc[:, 39].values"
   ]
  },
  {
   "cell_type": "code",
   "execution_count": 281,
   "id": "a60512d2",
   "metadata": {},
   "outputs": [
    {
     "name": "stdout",
     "output_type": "stream",
     "text": [
      "CPU times: user 937 ms, sys: 6.55 ms, total: 944 ms\n",
      "Wall time: 1.02 s\n"
     ]
    }
   ],
   "source": [
    "%%time\n",
    "#-- 70% train 30% test y estratificado--\n",
    "x_train, x_test, y_train, y_test = train_test_split(x,y, test_size= 0.30, stratify=y)\n",
    "\n",
    "scaler = preprocessing.StandardScaler().fit(x_train)\n",
    "x_scaled = scaler.transform(x_train)\n",
    "\n",
    "scaler = preprocessing.StandardScaler().fit(x_test)\n",
    "x_test_scaled = scaler.transform(x_test)"
   ]
  },
  {
   "cell_type": "code",
   "execution_count": 282,
   "id": "07263cd7",
   "metadata": {},
   "outputs": [
    {
     "name": "stdout",
     "output_type": "stream",
     "text": [
      "CPU times: user 54.4 s, sys: 87.5 ms, total: 54.5 s\n",
      "Wall time: 22.6 s\n"
     ]
    }
   ],
   "source": [
    "%%time\n",
    "l_regr= LogisticRegression(max_iter= 400)\n",
    "# Entrenamiento\n",
    "l_regr.fit(x_scaled, y_train)\n",
    "# Prediccion\n",
    "occup_pred = l_regr.predict(x_test_scaled)"
   ]
  },
  {
   "cell_type": "code",
   "execution_count": 283,
   "id": "1199332c",
   "metadata": {},
   "outputs": [
    {
     "name": "stdout",
     "output_type": "stream",
     "text": [
      "Accuracy:  98.4 %\n",
      "Precision:  98.0 %\n",
      "Recall:  99.4 %\n",
      "CPU times: user 2.56 s, sys: 11.8 ms, total: 2.58 s\n",
      "Wall time: 2.58 s\n"
     ]
    }
   ],
   "source": [
    "%%time\n",
    "accuracy = metrics.accuracy_score(y_test, occup_pred)*100\n",
    "print(\"Accuracy: \",\"{:.1f}\".format(accuracy),\"%\")\n",
    "precision = metrics.precision_score(y_test, occup_pred, pos_label='normal.')*100\n",
    "print(\"Precision: \",\"{:.1f}\".format(precision),\"%\")\n",
    "recall = metrics.recall_score(y_test, occup_pred, pos_label='normal.')*100\n",
    "print(\"Recall: \",\"{:.1f}\".format(recall),\"%\")"
   ]
  },
  {
   "cell_type": "code",
   "execution_count": 284,
   "id": "00fef957",
   "metadata": {},
   "outputs": [
    {
     "data": {
      "image/png": "[encoded data removed]",
      "text/plain": [
       "<Figure size 144x144 with 1 Axes>"
      ]
     },
     "metadata": {
      "needs_background": "light"
     },
     "output_type": "display_data"
    }
   ],
   "source": [
    "cm= confusion_matrix(y_test, occup_pred)\n",
    "\n",
    "fig, ax= plt.subplots(figsize=(2,2))\n",
    "ax.imshow(cm)\n",
    "ax.grid(False)\n",
    "ax.set_xlabel('Predicted outputs')\n",
    "ax.set_ylabel('Actual outputs')\n",
    "for i in range(2):\n",
    "    for j in range(2):\n",
    "        ax.text(j,i,cm[i,j],ha='center', va='center',color='white')\n",
    "plt.show()"
   ]
  }
 ],
 "metadata": {
  "kernelspec": {
   "display_name": "Python 3 (ipykernel)",
   "language": "python",
   "name": "python3"
  },
  "language_info": {
   "codemirror_mode": {
    "name": "ipython",
    "version": 3
   },
   "file_extension": ".py",
   "mimetype": "text/x-python",
   "name": "python",
   "nbconvert_exporter": "python",
   "pygments_lexer": "ipython3",
   "version": "3.9.10"
  }
 },
 "nbformat": 4,
 "nbformat_minor": 5
}
