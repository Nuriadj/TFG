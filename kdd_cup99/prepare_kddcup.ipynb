{
 "cells": [
  {
   "cell_type": "code",
   "execution_count": 4,
   "id": "19673c68",
   "metadata": {},
   "outputs": [],
   "source": [
    "import sklearn\n",
    "from sklearn import datasets\n",
    "import pandas as pd\n",
    "import numpy\n",
    "import random\n",
    "import sys"
   ]
  },
  {
   "cell_type": "code",
   "execution_count": null,
   "id": "300e42f6",
   "metadata": {},
   "outputs": [],
   "source": [
    "program= sys.argv[0].split(\"/\")\n",
    "\n",
    "if(len(program) > 1):\n",
    "    program= program[-1]\n",
    "    \n",
    "if (len(sys.argv) != 2):\n",
    "    error=\"\"\n",
    "    error=error+\"Error: wrong number of arguments, execute as: \\nipython \"+program+\" [0-100]\"\n",
    "    sys.exit(error)"
   ]
  },
  {
   "cell_type": "code",
   "execution_count": null,
   "id": "8916833f",
   "metadata": {},
   "outputs": [],
   "source": [
    "total= 4940200 # 494020 es el 10% del total, luego el fichero total tendra 4940200 lineas\n",
    "per_lines= int((float(sys.argv[1])*total)/100)"
   ]
  },
  {
   "cell_type": "code",
   "execution_count": 6,
   "id": "24794a60",
   "metadata": {
    "scrolled": true
   },
   "outputs": [],
   "source": [
    "rm_lines= sorted(random.sample(range(total),total-per_lines))\n",
    "dataset = pd.read_csv('/home/nuriadj/Documents/TFG/kdd_cup99/kddcup.data', skiprows=rm_lines)\n",
    "print(\"Reading: %2.f\" % round((len(dataset)*100)/total,2),\"% of the csv\")"
   ]
  },
  {
   "cell_type": "code",
   "execution_count": null,
   "id": "6ae7981d",
   "metadata": {},
   "outputs": [],
   "source": [
    "#change Multi-class to binary-class\n",
    "dataset['normal.'] = dataset['normal.'].replace(['back.', 'buffer_overflow.', 'ftp_write.', 'guess_passwd.', 'imap.', 'ipsweep.', 'land.', 'loadmodule.', 'multihop.', 'neptune.', 'nmap.', 'perl.', 'phf.', 'pod.', 'portsweep.', 'rootkit.', 'satan.', 'smurf.', 'spy.', 'teardrop.', 'warezclient.', 'warezmaster.'], 'attack')"
   ]
  },
  {
   "cell_type": "code",
   "execution_count": null,
   "id": "07b39815",
   "metadata": {},
   "outputs": [],
   "source": [
    "#Eliminar datos Redundantes\n",
    "dataset.drop(dataset.columns[19], axis= 1, inplace= True)\n",
    "dataset.drop(dataset.columns[20], axis= 1, inplace= True)"
   ]
  },
  {
   "cell_type": "code",
   "execution_count": null,
   "id": "f075ee6a",
   "metadata": {},
   "outputs": [],
   "source": [
    "dataset['tcp'] = dataset['tcp'].astype('category')\n",
    "dataset['http'] = dataset['http'].astype('category')\n",
    "dataset['SF'] = dataset['SF'].astype('category')\n",
    "cat_columns = dataset.select_dtypes(['category']).columns\n",
    "dataset[cat_columns] = dataset[cat_columns].apply(lambda x: x.cat.codes)"
   ]
  },
  {
   "cell_type": "code",
   "execution_count": null,
   "id": "46b60b64",
   "metadata": {},
   "outputs": [],
   "source": [
    "#Eliminar duplicados\n",
    "dataset.drop_duplicates(subset=None, keep='first', inplace=True)"
   ]
  },
  {
   "cell_type": "code",
   "execution_count": null,
   "id": "894346c8",
   "metadata": {},
   "outputs": [],
   "source": [
    "#Eliminar cabecera e indice\n",
    "#Guardar datos\n",
    "file_name= \"kddcup_\"+str(sys.argv[1])+\"_perClean.csv\"\n",
    "dataset.to_csv(file_name, header= False, index= False)"
   ]
  }
 ],
 "metadata": {
  "kernelspec": {
   "display_name": "Python 3 (ipykernel)",
   "language": "python",
   "name": "python3"
  },
  "language_info": {
   "codemirror_mode": {
    "name": "ipython",
    "version": 3
   },
   "file_extension": ".py",
   "mimetype": "text/x-python",
   "name": "python",
   "nbconvert_exporter": "python",
   "pygments_lexer": "ipython3",
   "version": "3.9.7"
  }
 },
 "nbformat": 4,
 "nbformat_minor": 5
}
