{
 "cells": [
  {
   "cell_type": "code",
   "execution_count": null,
   "id": "d0adc8a4",
   "metadata": {},
   "outputs": [],
   "source": [
    "import csv\n",
    "import pandas as pd\n",
    "from sklearn import metrics\n",
    "from sklearn import preprocessing\n",
    "from sklearn.metrics import confusion_matrix\n",
    "from sklearn.ensemble import RandomForestClassifier\n",
    "from sklearn.model_selection import train_test_split\n",
    "import matplotlib.pyplot as plt\n",
    "from collections import Counter\n",
    "import sys"
   ]
  },
  {
   "cell_type": "code",
   "execution_count": null,
   "id": "0edff065",
   "metadata": {},
   "outputs": [],
   "source": [
    "if (len(sys.argv) != 2):\n",
    "    error=\"\"\n",
    "    error=error+\"Error: wrong number of arguments, execute as: \\npython \"+sys.argv[0]+\" dataset_name\"\n",
    "    sys.exit(error)\n",
    "    \n",
    "f_name= sys.argv[1]#.replace(\".\",\"..\",1)"
   ]
  },
  {
   "cell_type": "code",
   "execution_count": null,
   "id": "6f6ede9f",
   "metadata": {},
   "outputs": [],
   "source": [
    "dataset = pd.read_csv(f_name, header= None)\n",
    "headers = list(dataset.columns.values)"
   ]
  },
  {
   "cell_type": "code",
   "execution_count": null,
   "id": "d6b237c3",
   "metadata": {},
   "outputs": [],
   "source": [
    "size= len(dataset.columns)\n",
    "x= dataset.iloc[:, :-1].values\n",
    "y= dataset.iloc[:, (size-1)].values"
   ]
  },
  {
   "cell_type": "code",
   "execution_count": null,
   "id": "0bf1f4d1",
   "metadata": {},
   "outputs": [],
   "source": [
    "#-- 70% train 30% test y estratificado--\n",
    "x_train, x_test, y_train, y_test = train_test_split(x,y, test_size= 0.30, stratify=y)\n",
    "\n",
    "scaler = preprocessing.StandardScaler().fit(x_train)\n",
    "x_scaled = scaler.transform(x_train)\n",
    "\n",
    "scaler = preprocessing.StandardScaler().fit(x_test)\n",
    "x_test_scaled = scaler.transform(x_test)"
   ]
  },
  {
   "cell_type": "code",
   "execution_count": null,
   "id": "856efdba",
   "metadata": {},
   "outputs": [],
   "source": [
    "r_forest= RandomForestClassifier(n_jobs= 4)\n",
    "r_forest.fit(x_scaled, y_train)\n",
    "occup_pred = r_forest.predict(x_test_scaled)"
   ]
  },
  {
   "cell_type": "code",
   "execution_count": null,
   "id": "6762f03a",
   "metadata": {},
   "outputs": [],
   "source": [
    "accuracy = metrics.accuracy_score(y_test, occup_pred)*100\n",
    "print(\"Accuracy: \",\"{:.1f}\".format(accuracy),\"%\")\n",
    "precision = metrics.precision_score(y_test, occup_pred, pos_label='normal.')*100\n",
    "print(\"Precision: \",\"{:.1f}\".format(precision),\"%\")\n",
    "recall = metrics.recall_score(y_test, occup_pred, pos_label='normal.')*100\n",
    "print(\"Recall: \",\"{:.1f}\".format(recall),\"%\")"
   ]
  }
 ],
 "metadata": {
  "kernelspec": {
   "display_name": "Python 3 (ipykernel)",
   "language": "python",
   "name": "python3"
  },
  "language_info": {
   "codemirror_mode": {
    "name": "ipython",
    "version": 3
   },
   "file_extension": ".py",
   "mimetype": "text/x-python",
   "name": "python",
   "nbconvert_exporter": "python",
   "pygments_lexer": "ipython3",
   "version": "3.9.10"
  }
 },
 "nbformat": 4,
 "nbformat_minor": 5
}
