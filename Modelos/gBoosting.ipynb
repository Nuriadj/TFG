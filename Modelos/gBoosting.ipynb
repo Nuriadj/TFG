{
 "cells": [
  {
   "cell_type": "code",
   "execution_count": null,
   "id": "528e7057",
   "metadata": {},
   "outputs": [],
   "source": [
    "import csv\n",
    "import pandas as pd\n",
    "from sklearn import metrics\n",
    "from sklearn import preprocessing\n",
    "from sklearn.metrics import confusion_matrix\n",
    "from sklearn.linear_model import LogisticRegression\n",
    "from sklearn.model_selection import train_test_split\n",
    "from sklearn.ensemble import GradientBoostingClassifier\n",
    "import matplotlib.pyplot as plt\n",
    "from collections import Counter\n",
    "import sys"
   ]
  },
  {
   "cell_type": "code",
   "execution_count": null,
   "id": "cf80f1b9",
   "metadata": {},
   "outputs": [],
   "source": [
    "program= sys.argv[0].split(\"/\")\n",
    "\n",
    "if(len(program) > 1):\n",
    "    program= program[-1]\n",
    "    \n",
    "if (len(sys.argv) != 2):\n",
    "    error=\"\"\n",
    "    error=error+\"Error: wrong number of arguments, execute as: \\nipython \"+program+\" dataset_name\"\n",
    "    sys.exit(error)\n",
    "    \n",
    "f_name= sys.argv[1]#.replace(\".\",\"..\",1)"
   ]
  },
  {
   "cell_type": "code",
   "execution_count": null,
   "id": "aa607161",
   "metadata": {},
   "outputs": [],
   "source": [
    "f_name= sys.argv[1]#.replace(\".\",\"..\",1)\n",
    "dataset = pd.read_csv(f_name, header= None)\n",
    "headers = list(dataset.columns.values)"
   ]
  },
  {
   "cell_type": "code",
   "execution_count": null,
   "id": "52198911",
   "metadata": {},
   "outputs": [],
   "source": [
    "size= len(dataset.columns)\n",
    "x= dataset.iloc[:, :-1].values\n",
    "y= dataset.iloc[:, (size-1)].values"
   ]
  },
  {
   "cell_type": "code",
   "execution_count": null,
   "id": "49faf1dd",
   "metadata": {},
   "outputs": [],
   "source": [
    "#-- 70% train 30% test y estratificado--\n",
    "x_train, x_test, y_train, y_test = train_test_split(x,y, test_size= 0.30, stratify=y)\n",
    "\n",
    "scaler = preprocessing.StandardScaler().fit(x_train)\n",
    "x_scaled = scaler.transform(x_train)\n",
    "\n",
    "scaler = preprocessing.StandardScaler().fit(x_test)\n",
    "x_test_scaled = scaler.transform(x_test)"
   ]
  },
  {
   "cell_type": "code",
   "execution_count": null,
   "id": "2f0b77df",
   "metadata": {},
   "outputs": [],
   "source": [
    "gtb = GradientBoostingClassifier()\n",
    "gtb.fit(x_scaled, y_train)\n",
    "occup_pred_train = gtb.predict(x_scaled)\n",
    "occup_pred = gtb.predict(x_test_scaled)"
   ]
  },
  {
   "cell_type": "code",
   "execution_count": null,
   "id": "fffde271",
   "metadata": {},
   "outputs": [],
   "source": [
    "label= y[0]\n",
    "\n",
    "accuracy= metrics.accuracy_score(y_train, occup_pred_train)*100\n",
    "print(\"Trainning Accuracy: \",\"{:.1f}\".format(accuracy),\"%\")\n",
    "\n",
    "accuracy = metrics.accuracy_score(y_test, occup_pred)*100\n",
    "print(\"Accuracy: \",\"{:.1f}\".format(accuracy),\"%\")\n",
    "precision = metrics.precision_score(y_test, occup_pred, pos_label=label)*100\n",
    "print(\"Precision: \",\"{:.1f}\".format(precision),\"%\")\n",
    "recall = metrics.recall_score(y_test, occup_pred, pos_label=label)*100\n",
    "print(\"Recall: \",\"{:.1f}\".format(recall),\"%\")"
   ]
  }
 ],
 "metadata": {
  "kernelspec": {
   "display_name": "Python 3 (ipykernel)",
   "language": "python",
   "name": "python3"
  },
  "language_info": {
   "codemirror_mode": {
    "name": "ipython",
    "version": 3
   },
   "file_extension": ".py",
   "mimetype": "text/x-python",
   "name": "python",
   "nbconvert_exporter": "python",
   "pygments_lexer": "ipython3",
   "version": "3.9.7"
  }
 },
 "nbformat": 4,
 "nbformat_minor": 5
}
